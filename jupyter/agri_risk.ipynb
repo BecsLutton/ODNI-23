{
 "cells": [
  {
   "cell_type": "code",
   "execution_count": null,
   "id": "0fbb8cb3-83de-4290-a0a8-92043cb85379",
   "metadata": {},
   "outputs": [],
   "source": [
    "import geopandas as gpd\n",
    "import pandas as pd\n",
    "from pyproj import Proj, CRS, Transformer\n",
    "from shapely.geometry import Point\n",
    "from shapely import wkt\n",
    "import matplotlib.pyplot as plt\n",
    "import folium\n",
    "from folium import plugins\n",
    "import branca\n",
    "import branca.colormap as cm\n",
    "\n",
    "#plt.rcParams['figure.figsize'] = [8,8]\n"
   ]
  },
  {
   "cell_type": "code",
   "execution_count": null,
   "id": "965effbb-7d3f-40ed-8613-eefe9352f28a",
   "metadata": {},
   "outputs": [],
   "source": [
    "data =gpd.read_file(\"../geojson/agricultural_risk/Agricultural_Critical_Risk_Areas.geojson\")\n",
    "data.head()"
   ]
  },
  {
   "cell_type": "code",
   "execution_count": null,
   "id": "7f89689a-26a6-4dbc-acf6-c5bbce733eb5",
   "metadata": {},
   "outputs": [],
   "source": [
    "data[\"GlobalID\"].nunique()"
   ]
  },
  {
   "cell_type": "code",
   "execution_count": null,
   "id": "4dbd28dd",
   "metadata": {},
   "outputs": [],
   "source": [
    "'''\n",
    "colormap = cm.StepColormap(colors=['green', 'blue', 'red'],\n",
    "                             index=[0,1,2,3],\n",
    "                             vmin=0,\n",
    "                             vmax=3,\n",
    "                             caption='Risk Score (1=Low, 2=medium, 3=High)')\n",
    "\n",
    "raw_risk=data[['bh', 'hydoconnec','rainfall_2', 'slope_2', 'landclass2', 'host_2', 'soilp_2', \n",
    "              'q10_2','riverbuff2', 'rwb_stat_2', 'erosion', 'riskscore2', 'ruleid','geometry'\n",
    "              ]]\n",
    "              \n",
    "raw_risk.explore(\"ruleid\", cmap=colormap)\n",
    "''';"
   ]
  },
  {
   "cell_type": "code",
   "execution_count": null,
   "id": "414f532d",
   "metadata": {},
   "outputs": [],
   "source": [
    "risk_geometry=data[\"geometry\"]"
   ]
  },
  {
   "cell_type": "code",
   "execution_count": null,
   "id": "e11da896",
   "metadata": {},
   "outputs": [],
   "source": [
    "'''\n",
    "risk_point=[]\n",
    "for i in risk_geometry:\n",
    "    risk_point.append(i.centroid.wkt)\n",
    "\n",
    "risk_point=gpd.GeoDataFrame(risk_point.copy())\n",
    "risk_point.columns=[\"geometry\"]\n",
    "#risk_point[\"geometry\"]=risk_point[\"geometry\"].apply(wkt.loads)\n",
    "risk_point.set_geometry(\"geometry\", inplace=True)\n",
    "risk_point\n",
    "''';"
   ]
  },
  {
   "cell_type": "code",
   "execution_count": null,
   "id": "06076f79",
   "metadata": {},
   "outputs": [],
   "source": [
    "risk=data[['bh', 'hydoconnec','rainfall_2', 'slope_2', 'landclass2', 'host_2', 'soilp_2', \n",
    "              'q10_2','riverbuff2', 'rwb_stat_2', 'erosion', 'riskscore2', 'ruleid'\n",
    "              ]].copy()\n",
    "\n",
    "risk_point=gpd.GeoDataFrame(risk_geometry.apply(lambda x:x.centroid.wkt), columns=[\"geometry\"])\n",
    "\n",
    "risk=gpd.GeoDataFrame(pd.concat([risk.copy(), risk_point], axis=1))\n",
    "risk[\"geometry\"]=risk[\"geometry\"].apply(wkt.loads)\n",
    "risk.set_geometry(\"geometry\", inplace=True)"
   ]
  },
  {
   "cell_type": "code",
   "execution_count": null,
   "id": "2915c7bc-aaeb-4690-97ba-0ba6c7a04d9a",
   "metadata": {
    "scrolled": true
   },
   "outputs": [],
   "source": [
    "def create_nimap():\n",
    "    nimap = folium.Map(\n",
    "        location=[54.667521, -6.8135], #54°36'27\"N, 6°41'35\"W\n",
    "        zoom_start=9\n",
    "    )\n",
    "    return nimap"
   ]
  },
  {
   "cell_type": "code",
   "execution_count": null,
   "id": "8b7c0e38",
   "metadata": {},
   "outputs": [],
   "source": [
    "'''\n",
    "fig = folium.Figure(width=1200, height=1000)\n",
    "m=create_nimap()\n",
    "\n",
    "colormap = cm.StepColormap(colors=['green', 'blue', 'red'],\n",
    "                             index=[0,1,2,3],\n",
    "                             vmin=0,\n",
    "                             vmax=3,\n",
    "                             caption='Risk Score (1=Low, 2=medium, 3=High)')\n",
    "              \n",
    "risk_map=risk.explore(\"ruleid\",m=m, cmap=colormap)\n",
    "risk_map.add_to(fig)\n",
    "\n",
    "risk_map.save(\"risk_map.html\")\n",
    "''';"
   ]
  },
  {
   "cell_type": "code",
   "execution_count": null,
   "id": "dce62130-fac7-4c87-9178-e0b96dd6d9ae",
   "metadata": {},
   "outputs": [],
   "source": [
    "surface_ard=pd.read_csv(\"../jupyter/custom_csv/surface_soil_aqua.csv\")\n",
    "surface_ard['geometry'] = surface_ard['geometry'].apply(wkt.loads)\n",
    "\n",
    "deep_ard=pd.read_csv(\"../jupyter/custom_csv/deep_soil_CEC.csv\")\n",
    "deep_ard['geometry'] = deep_ard['geometry'].apply(wkt.loads)"
   ]
  },
  {
   "cell_type": "code",
   "execution_count": null,
   "id": "9b6e3ed0-25d4-4e86-aeab-ef54713f000f",
   "metadata": {},
   "outputs": [],
   "source": [
    "'''\n",
    "surface_ard[\"ARCA_ID\"] = surface_ard.apply(lambda p: data[data.apply(lambda g: g.geometry.contains(p.geometry), axis=1)].GlobalID.iloc[:1].reset_index(drop=True), axis=1)\n",
    "surface_merged_df = pd.merge(surface_ard, data, left_on='ARCA_ID', right_on='GlobalID')\n",
    "surface_merged_df[\"geometry\"]=surface_merged_df[\"geometry_x\"]\n",
    "surface_merged_df.drop([\"geometry_x\",\"geometry_y\"], axis=1, inplace=True)\n",
    "surface_merged_df.to_csv(\"surface_merged_df.csv\")\n",
    "'''"
   ]
  },
  {
   "cell_type": "code",
   "execution_count": null,
   "id": "3d883f27",
   "metadata": {},
   "outputs": [],
   "source": [
    "'''\n",
    "deep_ard[\"ARCA_ID\"] = deep_ard.apply(lambda p: data[data.apply(lambda g: g.geometry.contains(p.geometry), axis=1)].GlobalID.iloc[:1].reset_index(drop=True), axis=1)\n",
    "deep_merged_df = pd.merge(deep_ard, data, left_on='ARCA_ID', right_on='GlobalID')\n",
    "deep_merged_df[\"geometry\"]=deep_merged_df[\"geometry_x\"]\n",
    "deep_merged_df.drop([\"geometry_x\",\"geometry_y\"], axis=1, inplace=True)\n",
    "deep_merged_df.to_csv(\"deep_merged_df.csv\")\n",
    "'''\n"
   ]
  },
  {
   "cell_type": "code",
   "execution_count": null,
   "id": "314776cb",
   "metadata": {},
   "outputs": [],
   "source": [
    "surface_merged_df=pd.read_csv(\"../jupyter/custom_csv/surface_merged_df.csv\")\n",
    "surface_merged_df['geometry'] = surface_merged_df['geometry'].apply(wkt.loads)\n",
    "deep_merged_df=pd.read_csv(\"../jupyter/custom_csv/deep_merged_df.csv\")\n",
    "deep_merged_df['geometry'] = deep_merged_df['geometry'].apply(wkt.loads)"
   ]
  },
  {
   "cell_type": "code",
   "execution_count": null,
   "id": "218971ed",
   "metadata": {},
   "outputs": [],
   "source": [
    "surface_merged_df.head()"
   ]
  },
  {
   "cell_type": "code",
   "execution_count": null,
   "id": "3fe085d8",
   "metadata": {},
   "outputs": [],
   "source": [
    "deep_merged_df.head()"
   ]
  },
  {
   "cell_type": "code",
   "execution_count": null,
   "id": "186e466f",
   "metadata": {},
   "outputs": [],
   "source": [
    "surface_merged_df.columns"
   ]
  },
  {
   "cell_type": "code",
   "execution_count": null,
   "id": "ec706bf1-fe6f-4d22-8159-4c8968c4937a",
   "metadata": {
    "scrolled": true
   },
   "outputs": [],
   "source": [
    "#merged_dff[\"Ni\"]=merged_dff.join(ard,on=\"Sample\",rsuffix='_other').Ni\n",
    "agri_risk = gpd.GeoDataFrame(surface_merged_df)"
   ]
  },
  {
   "cell_type": "code",
   "execution_count": null,
   "id": "d5e95f7b-2ae4-4a58-8d08-75cf4825459e",
   "metadata": {},
   "outputs": [],
   "source": [
    "soil_risk=agri_risk[['bh','hydoconnec', 'rainfall_2', 'slope_2',\n",
    "       'landclass2', 'host_2', 'soilp_2', 'q10_2', 'riverbuff2', 'rwb_stat_2',\n",
    "       'erosion', 'riskscore2', 'ruleid', 'pH', '%OM', 'geometry']].copy()"
   ]
  },
  {
   "cell_type": "code",
   "execution_count": null,
   "id": "cee7e201-6474-412f-8fb0-fd5338469956",
   "metadata": {},
   "outputs": [],
   "source": [
    "soil_risk"
   ]
  },
  {
   "cell_type": "code",
   "execution_count": null,
   "id": "b9583d38",
   "metadata": {},
   "outputs": [],
   "source": [
    "soil_risk[\"riverbuff2\"].unique()"
   ]
  },
  {
   "cell_type": "code",
   "execution_count": null,
   "id": "a83077d6",
   "metadata": {},
   "outputs": [],
   "source": [
    "soil_risk.groupby([\"hydoconnec\"])[\"bh\"].count().to_frame()"
   ]
  },
  {
   "cell_type": "code",
   "execution_count": null,
   "id": "97676aff-72b9-4143-87ba-317a7db05ebf",
   "metadata": {},
   "outputs": [],
   "source": [
    "risk_hydro=agri_risk[(agri_risk['hydoconnec']== 'Yes') & (agri_risk['ruleid']==3)]\n",
    "len(risk_hydro)"
   ]
  },
  {
   "cell_type": "code",
   "execution_count": null,
   "id": "6abc7f9c-3062-4012-b7a0-e66906992cd6",
   "metadata": {},
   "outputs": [],
   "source": [
    "colormap = cm.StepColormap(colors=['green', 'blue', 'red'],\n",
    "                             index=[0,1,2,3],\n",
    "                             vmin=0,\n",
    "                             vmax=3,\n",
    "                             caption='Risk Score (1=Low, 2=medium, 3=High)')\n",
    "\n",
    "ni_map=create_nimap()\n",
    "fig = folium.Figure(width=1200, height=1000)\n",
    "\n",
    "soil_risk_map=soil_risk.explore(\"ruleid\", cmap=colormap, m=ni_map, marker_kwds={\"radius\": 5})\n",
    "soil_risk_map.add_to(fig)"
   ]
  },
  {
   "cell_type": "code",
   "execution_count": null,
   "id": "f8ca2ee5-ee75-4242-bc08-60663767327e",
   "metadata": {},
   "outputs": [],
   "source": [
    "soil_risk['lat']=soil_risk.geometry.y\n",
    "soil_risk['lng']=soil_risk.geometry.x\n",
    "\n",
    "soil_risk_low = soil_risk[(soil_risk['ruleid']==1)]\n",
    "soil_risk_med = soil_risk[(soil_risk['ruleid']==2)]\n",
    "soil_risk_high = soil_risk[(soil_risk['ruleid']==3)]\n"
   ]
  },
  {
   "cell_type": "code",
   "execution_count": null,
   "id": "7839e4a9-5904-4c56-8893-967f52d72583",
   "metadata": {},
   "outputs": [],
   "source": [
    "m = create_nimap()\n",
    "fig = folium.Figure(width=1200, height=1000)\n",
    "\n",
    "group_1 = folium.FeatureGroup(\"Low Risk\").add_to(m)\n",
    "for loc, p in zip(zip(soil_risk_low[\"lat\"],soil_risk_low[\"lng\"]),soil_risk_low[\"ruleid\"]):\n",
    "      folium.CircleMarker(location=loc,\n",
    "                          radius= 5,\n",
    "                          fill=True,\n",
    "                          #fill_opacity=1,\n",
    "                          color='green'\n",
    "                          ).add_to(group_1)\n",
    "\n",
    "group_2 = folium.FeatureGroup(\"Medium Risk\").add_to(m)\n",
    "for loc, p in zip(zip(soil_risk_med[\"lat\"],soil_risk_med[\"lng\"]),soil_risk_med[\"ruleid\"]):\n",
    "      folium.CircleMarker(location=loc,\n",
    "                          radius= 5,\n",
    "                          fill=True,\n",
    "                          #fill_opacity=1,\n",
    "                          color='darkorange').add_to(group_2)\n",
    "\n",
    "group_3 = folium.FeatureGroup(\"High Risk\").add_to(m)\n",
    "for loc, p in zip(zip(soil_risk_high[\"lat\"],soil_risk_high[\"lng\"]),soil_risk_high[\"ruleid\"]):\n",
    "      folium.CircleMarker(location=loc,\n",
    "                          radius= 5,\n",
    "                          fill=True,\n",
    "                          #fill_opacity=1,\n",
    "                          color='red').add_to(group_3)\n",
    "\n",
    "plugins.Geocoder().add_to(m)\n",
    "folium.LayerControl(collapsed = False).add_to(m)\n",
    "\n",
    "m.add_to(fig)\n",
    "#m"
   ]
  },
  {
   "cell_type": "code",
   "execution_count": null,
   "id": "e90be283-8588-44a8-8aae-e3f7cc793412",
   "metadata": {},
   "outputs": [],
   "source": [
    "surface_CEC=gpd.GeoDataFrame(pd.read_csv(\"../jupyter/custom_csv/surface_soil_CEC.csv\"))\n",
    "deep_CEC=gpd.GeoDataFrame(pd.read_csv(\"../jupyter/custom_csv/deep_soil_CEC.csv\"))\n",
    "\n",
    "surface_CEC['geometry'] = surface_CEC['geometry'].apply(wkt.loads)\n",
    "deep_CEC['geometry'] = deep_CEC['geometry'].apply(wkt.loads)\n",
    "\n",
    "#surface_CEC=surface_CEC.drop(\"Sample\", axis=1)"
   ]
  },
  {
   "cell_type": "code",
   "execution_count": null,
   "id": "1bce5807-27dd-40b3-8b66-63b27b3e7005",
   "metadata": {},
   "outputs": [],
   "source": [
    "surface_CEC[\"Sample\"].nunique()"
   ]
  },
  {
   "cell_type": "code",
   "execution_count": null,
   "id": "3dc6c5b0-336d-4997-b927-316494da7ef7",
   "metadata": {},
   "outputs": [],
   "source": [
    "deep_CEC[\"Sample\"].nunique()"
   ]
  },
  {
   "cell_type": "code",
   "execution_count": null,
   "id": "059e3f9e-e65b-4bc0-8c7d-4882b8095afc",
   "metadata": {},
   "outputs": [],
   "source": [
    "soil_CEC_df=(surface_CEC.copy().rename(columns={'Type':'Surface_Type'}))\n",
    "soil_CEC_df"
   ]
  },
  {
   "cell_type": "code",
   "execution_count": null,
   "id": "0f321741-dafc-4bcb-84bb-38fcdb4e0757",
   "metadata": {},
   "outputs": [],
   "source": [
    "soil_CEC=pd.merge(soil_CEC_df, deep_CEC[[\"Sample\", \"Type\"]], on='Sample', how='inner')\n",
    "soil_CEC=soil_CEC.rename(columns={'Type':'Deep_Type'})\n",
    "soil_CEC"
   ]
  },
  {
   "cell_type": "code",
   "execution_count": null,
   "id": "729f126f-4f0c-4305-9a5e-ca632cbf061c",
   "metadata": {},
   "outputs": [],
   "source": [
    "#for organic surface soil, what is the deep soil type?\n",
    "\n",
    "surface_organic=soil_CEC.loc[soil_CEC[\"Surface_Type\"]==\"Organic Soil\", \"Deep_Type\"].to_frame()\n",
    "surface_organic_sum=surface_organic.copy().groupby([\"Deep_Type\"])[\"Deep_Type\"].count().nlargest().to_frame()\n",
    "surface_organic_sum_percent=surface_organic_sum.apply(lambda x:x/sum(x)*100).astype(int)\n",
    "surface_organic_sum_percent.columns=[\"Organic\"]\n",
    "\n",
    "surface_organic_sum_percent"
   ]
  },
  {
   "cell_type": "code",
   "execution_count": null,
   "id": "3add874e-2220-4ddf-a7e2-202b5d7eb700",
   "metadata": {},
   "outputs": [],
   "source": [
    "surface_clay=soil_CEC.loc[soil_CEC[\"Surface_Type\"]==\"Clay\", \"Deep_Type\"].to_frame()\n",
    "surface_clay_sum=surface_clay.copy().groupby([\"Deep_Type\"])[\"Deep_Type\"].count().nlargest().to_frame()\n",
    "surface_clay_sum_percent=surface_clay_sum.apply(lambda x:x/sum(x)*100).astype(int)\n",
    "surface_clay_sum_percent.columns=[\"Clay\"]\n",
    "\n",
    "surface_clay_sum_percent"
   ]
  },
  {
   "cell_type": "code",
   "execution_count": null,
   "id": "e0454966-d775-4255-b9a3-fb573e78b4d7",
   "metadata": {},
   "outputs": [],
   "source": [
    "surface_silt=soil_CEC.loc[soil_CEC[\"Surface_Type\"]==\"Silt\", \"Deep_Type\"].to_frame()\n",
    "surface_silt_sum=surface_silt.copy().groupby([\"Deep_Type\"])[\"Deep_Type\"].count().nlargest().to_frame()\n",
    "surface_silt_sum_percent=surface_silt_sum.apply(lambda x:x/sum(x)*100).astype(int)\n",
    "surface_silt_sum_percent.columns=[\"Silt\"]\n",
    "surface_silt_sum_percent"
   ]
  },
  {
   "cell_type": "code",
   "execution_count": null,
   "id": "d5955dbf-7660-4578-a38e-baed0d0a75ee",
   "metadata": {},
   "outputs": [],
   "source": [
    "surface_loam=soil_CEC.loc[soil_CEC[\"Surface_Type\"]==\"Loam\", \"Deep_Type\"].to_frame()\n",
    "surface_loam_sum=surface_loam.copy().groupby([\"Deep_Type\"])[\"Deep_Type\"].count().nlargest().to_frame()\n",
    "surface_loam_sum_percent=surface_loam_sum.apply(lambda x:x/sum(x)*100).astype(int)\n",
    "surface_loam_sum_percent.columns=[\"Loam\"]\n",
    "surface_loam_sum_percent"
   ]
  },
  {
   "cell_type": "code",
   "execution_count": null,
   "id": "c8af9335-0545-4409-abe7-21f92321c8fe",
   "metadata": {},
   "outputs": [],
   "source": [
    "surface_sand=soil_CEC.loc[soil_CEC[\"Surface_Type\"]==\"Sand\", \"Deep_Type\"].to_frame()\n",
    "surface_sand_sum=surface_sand.copy().groupby([\"Deep_Type\"])[\"Deep_Type\"].count().nlargest().to_frame()\n",
    "surface_sand_sum_percent=surface_sand_sum.apply(lambda x:x/sum(x)*100).astype(int)\n",
    "surface_sand_sum_percent.columns=[\"Sand\"]\n",
    "surface_sand_sum_percent"
   ]
  },
  {
   "cell_type": "code",
   "execution_count": null,
   "id": "d15fd176",
   "metadata": {},
   "outputs": [],
   "source": [
    "non_organic_deep=surface_organic_sum[surface_organic_sum.index != \"Organic Soil\"]\n",
    "non_clay_deep=surface_organic_sum[surface_organic_sum.index != \"Clay\"]\n",
    "non_silt_deep=surface_organic_sum[surface_organic_sum.index != \"Silt\"]\n",
    "non_loam_deep=surface_organic_sum[surface_organic_sum.index != \"Loam\"]\n",
    "non_sand_deep=surface_organic_sum[surface_organic_sum.index != \"Sand\"]\n"
   ]
  },
  {
   "cell_type": "code",
   "execution_count": null,
   "id": "fb5abb8a",
   "metadata": {},
   "outputs": [],
   "source": [
    "surface_organic_deep=soil_CEC.loc[soil_CEC[\"Surface_Type\"]==\"Organic Soil\", [\"Deep_Type\", \"geometry\"]]\n",
    "non_organic_deep=surface_organic_deep[surface_organic_deep[\"Deep_Type\"]!=\"Organic Soil\"]\n",
    "\n",
    "surface_clay_deep=soil_CEC.loc[soil_CEC[\"Surface_Type\"]==\"Clay\", [\"Deep_Type\", \"geometry\"]]\n",
    "non_clay_deep=surface_clay_deep[surface_clay_deep[\"Deep_Type\"]!=\"Clay\"]\n",
    "\n",
    "surface_silt_deep=soil_CEC.loc[soil_CEC[\"Surface_Type\"]==\"Silt\", [\"Deep_Type\", \"geometry\"]]\n",
    "non_silt_deep=surface_silt_deep[surface_silt_deep[\"Deep_Type\"]!=\"Silt\"]\n",
    "\n",
    "surface_loam_deep=soil_CEC.loc[soil_CEC[\"Surface_Type\"]==\"Loam\", [\"Deep_Type\", \"geometry\"]]\n",
    "non_loam_deep=surface_loam_deep[surface_loam_deep[\"Deep_Type\"]!=\"Loam\"]\n",
    "\n",
    "surface_sand_deep=soil_CEC.loc[soil_CEC[\"Surface_Type\"]==\"Sand\", [\"Deep_Type\", \"geometry\"]]\n",
    "non_sand_deep=surface_sand_deep[surface_sand_deep[\"Deep_Type\"]!=\"Sand\"]"
   ]
  },
  {
   "cell_type": "code",
   "execution_count": null,
   "id": "73efb4f5",
   "metadata": {},
   "outputs": [],
   "source": [
    "total_deep_soil=pd.concat([surface_organic_sum_percent, \n",
    "           surface_clay_sum_percent, \n",
    "           surface_silt_sum_percent, \n",
    "           surface_loam_sum_percent, \n",
    "           surface_sand_sum_percent], \n",
    "           axis=1,\n",
    "           keys=[\"Surface Soil Type\",\"Surface Soil Type\",\"Surface Soil Type\",\"Surface Soil Type\", \"Surface Soil Type\"]\n",
    "           ).fillna(0)\n",
    "\n",
    "\n",
    "total_deep_soil.index.names=[\"Deep Soil Type\"]\n",
    "total_deep_soil=total_deep_soil.reindex([\"Organic Soil\", \"Clay\", \"Silt\", \"Loam\", \"Sand\"])\n",
    "total_deep_soil=total_deep_soil.copy().astype(int)\n",
    "total_deep_soil"
   ]
  },
  {
   "cell_type": "code",
   "execution_count": null,
   "id": "033291a8",
   "metadata": {},
   "outputs": [],
   "source": [
    "soil_bar=total_deep_soil.droplevel(0, axis=1).T\n",
    "soil_bar"
   ]
  },
  {
   "cell_type": "code",
   "execution_count": null,
   "id": "3b570d2b",
   "metadata": {},
   "outputs": [],
   "source": [
    "ax=soil_bar.plot(kind='bar',\n",
    "              stacked=True,\n",
    "              xlabel=\"$\\\\bf{Surface\\ Soil\\ Type}$\",\n",
    "              rot=0,\n",
    "              color=['green','grey','blue','brown', 'gold'], \n",
    "              figsize = (10,8),\n",
    "              title = \"$\\\\bf{Percentage\\ of\\ Soil\\ Type\\ in\\ Deep\\ Soil\\ per\\ Type\\ of\\ Surface\\ Soil}$\"\n",
    "              )\n",
    "\n",
    "'''\n",
    "for c in ax.containers:\n",
    "    # remove the labels parameter if it's not needed for customized labels\n",
    "    ax.bar_label(c, fmt='%0.0f',label_type='center', color=\"white\")\n",
    "'''\n",
    "\n",
    "plt.legend(loc=\"upper right\", \n",
    "                       bbox_to_anchor=(1.2, 1.05),\n",
    "                       title=\"$\\\\bf{Deep\\ Soil\\ Type}$\"\n",
    "                       );\n"
   ]
  },
  {
   "cell_type": "code",
   "execution_count": null,
   "id": "64101469",
   "metadata": {},
   "outputs": [],
   "source": [
    "soil_risk"
   ]
  },
  {
   "cell_type": "code",
   "execution_count": null,
   "id": "6ed6f34f",
   "metadata": {},
   "outputs": [],
   "source": [
    "ni_map = create_nimap()\n",
    "fig = folium.Figure(width=1200, height=1000)\n",
    "cmap=cm.LinearColormap(\n",
    "    ['red', 'purple', 'green', 'blue'],\n",
    "    index=[0, 0.05, 0.1, 0.15],\n",
    "    vmin=0.00, vmax=0.15\n",
    ")\n",
    "\n",
    "rain=soil_risk.explore(\"rainfall_2\", cmap=cmap, m=ni_map, marker_kwds={\"radius\": 5})\n",
    "rain.add_to(fig)\n"
   ]
  },
  {
   "cell_type": "code",
   "execution_count": null,
   "metadata": {},
   "outputs": [],
   "source": [
    "ni_map = create_nimap()\n",
    "fig = folium.Figure(width=1200, height=1000)\n",
    "cmap=cm.LinearColormap(\n",
    "    ['blue', 'purple', 'orange', 'red'],\n",
    "    index=[0, 0.2, 0.4, 0.6],\n",
    "    vmin=0.00, vmax=0.6\n",
    ")\n",
    "\n",
    "erosion=soil_risk.explore(\"erosion\", cmap=cmap, m=ni_map, marker_kwds={\"radius\": 5})\n",
    "erosion.add_to(fig)\n"
   ]
  },
  {
   "cell_type": "code",
   "execution_count": null,
   "id": "ec82419d",
   "metadata": {},
   "outputs": [],
   "source": []
  },
  {
   "cell_type": "code",
   "execution_count": null,
   "id": "0f810bc7",
   "metadata": {},
   "outputs": [],
   "source": [
    "ni_map = create_nimap()\n",
    "\n",
    "fig = folium.Figure(width=1200, height=1000)\n",
    "rainfall_colour=cmap=cm.LinearColormap(['red', 'purple', 'green', 'blue'],index=[0, 0.05, 0.1, 0.15],vmin=0.00, vmax=0.15)\n",
    "erosion_colour=cm.LinearColormap(['blue', 'purple', 'orange', 'red'],index=[0, 0.2, 0.4, 0.6],vmin=0.00, vmax=0.6)\n",
    "\n",
    "m=soil_risk.explore(column=\"rainfall_2\", m=ni_map, cmap=rainfall_colour, show=False, legend=False, name=\"Rainfall\", marker_kwds={\"radius\": 5})\n",
    "soil_risk.explore(column=\"erosion\", m=m, cmap=erosion_colour, show=False, legend=False, name=\"Erosion\", marker_kwds={\"radius\": 5})\n",
    "\n",
    "\n",
    "folium.TileLayer('stamenterrain', name=\"Terrain\").add_to(m)\n",
    "folium.TileLayer('cartodbpositron', name=\"Greyscale\").add_to(m)\n",
    "folium.TileLayer('cartodbdark_matter', name=\"Dark\").add_to(m)\n",
    "plugins.Geocoder().add_to(m)\n",
    "folium.LayerControl(collapsed=False).add_to(m)  # use folium to add layer control\n",
    "\n",
    "\n",
    "m.add_to(fig)\n",
    "\n"
   ]
  },
  {
   "cell_type": "code",
   "execution_count": null,
   "id": "d2a3a146",
   "metadata": {},
   "outputs": [],
   "source": [
    "ni_map = create_nimap()\n",
    "fig = folium.Figure(width=1200, height=1000)\n",
    "cmap=cm.LinearColormap(\n",
    "    ['red', 'purple', 'green', 'blue'],\n",
    "    index=[0, 0.05, 0.1, 0.15],\n",
    "    vmin=0.00, vmax=0.15\n",
    ")\n",
    "\n",
    "rain=soil_risk.explore(\"rainfall_2\", cmap=cmap, m=ni_map, marker_kwds={\"radius\": 5})\n",
    "rain.add_to(fig)\n",
    "\n",
    "\n",
    "\n",
    "ni_map = create_nimap()\n",
    "fig = folium.Figure(width=1200, height=1000)\n",
    "cmap=cm.LinearColormap(\n",
    "    ['blue', 'purple', 'orange', 'red'],\n",
    "    index=[0, 0.2, 0.4, 0.6],\n",
    "    vmin=0.00, vmax=0.6\n",
    ")\n",
    "\n",
    "erosion=soil_risk.explore(\"erosion\", cmap=cmap, m=ni_map, marker_kwds={\"radius\": 5})\n",
    "erosion.add_to(fig)\n",
    "\n",
    "\n"
   ]
  }
 ],
 "metadata": {
  "kernelspec": {
   "display_name": "Python 3 (ipykernel)",
   "language": "python",
   "name": "python3"
  },
  "language_info": {
   "codemirror_mode": {
    "name": "ipython",
    "version": 3
   },
   "file_extension": ".py",
   "mimetype": "text/x-python",
   "name": "python",
   "nbconvert_exporter": "python",
   "pygments_lexer": "ipython3",
   "version": "3.10.12"
  }
 },
 "nbformat": 4,
 "nbformat_minor": 5
}
