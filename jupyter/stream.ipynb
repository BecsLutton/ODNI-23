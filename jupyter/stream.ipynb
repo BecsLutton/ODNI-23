{
 "cells": [
  {
   "cell_type": "code",
   "execution_count": null,
   "metadata": {},
   "outputs": [],
   "source": [
    "import geopandas as gpd\n",
    "import pandas as pd\n",
    "from pyproj import Proj, CRS, Transformer\n",
    "from shapely.geometry import Point\n",
    "import matplotlib.pyplot as plt\n",
    "import folium\n",
    "from folium import plugins\n",
    "import branca as cm\n",
    "import seaborn as sns\n",
    "plt.rcParams['figure.figsize'] = [8,8]"
   ]
  },
  {
   "cell_type": "code",
   "execution_count": null,
   "metadata": {},
   "outputs": [],
   "source": [
    "stream=gpd.read_file(\"../geojson/stream/regionalwatersicp.geojson\")"
   ]
  },
  {
   "cell_type": "code",
   "execution_count": null,
   "metadata": {},
   "outputs": [],
   "source": [
    "print(len(stream))\n",
    "stream.columns"
   ]
  },
  {
   "cell_type": "code",
   "execution_count": null,
   "metadata": {},
   "outputs": [],
   "source": [
    "stream_contaminants=stream[[\"AS_\",\"CD\",\"CR\",\"CU\",\"NI\",\"P\",\"PB\",\"ZN\",\"geometry\"]].copy()\n",
    "stream_contaminants.apply(lambda s: pd.to_numeric(s, errors='coerce').notnull().all())"
   ]
  },
  {
   "cell_type": "code",
   "execution_count": null,
   "metadata": {},
   "outputs": [],
   "source": [
    "a = pd.to_numeric(stream_contaminants[\"ZN\"], errors='coerce')\n",
    "idx=a.isna()\n",
    "stream_contaminants[\"ZN\"][idx].to_frame()"
   ]
  },
  {
   "cell_type": "code",
   "execution_count": null,
   "metadata": {},
   "outputs": [],
   "source": [
    "stream_contaminants[\"ZN\"]=stream_contaminants[\"ZN\"].fillna(0)\n",
    "stream_contaminants[\"P\"]=stream_contaminants[\"P\"].fillna(0)\n",
    "stream_contaminants[\"P\"].replace(',','', regex=True, inplace=True)\n",
    "stream_contaminants[\"P\"]=pd.to_numeric(stream_contaminants[\"P\"])\n",
    "stream_contaminants.info()"
   ]
  },
  {
   "cell_type": "code",
   "execution_count": null,
   "metadata": {},
   "outputs": [],
   "source": [
    "sum(i>5 for i in stream_contaminants[\"ZN\"])"
   ]
  },
  {
   "cell_type": "code",
   "execution_count": null,
   "metadata": {},
   "outputs": [],
   "source": [
    "stream_contaminants[\"ZN\"].describe()\n"
   ]
  },
  {
   "cell_type": "code",
   "execution_count": null,
   "metadata": {},
   "outputs": [],
   "source": [
    "stream_contaminants['lat']=stream_contaminants.geometry.y\n",
    "stream_contaminants['lng']=stream_contaminants.geometry.x\n",
    "\n",
    "stream_P=stream_contaminants.loc[(stream_contaminants['P'] > 50)]\n",
    "stream_AS=stream_contaminants.loc[(stream_contaminants['AS_'] > 10)]\n",
    "stream_CD=stream_contaminants.loc[(stream_contaminants['CD'] > 5)]\n",
    "stream_PB=stream_contaminants.loc[(stream_contaminants['PB'] > 10)]\n",
    "stream_CU=stream_contaminants.loc[(stream_contaminants['CU'] > 2)]\n",
    "stream_CR=stream_contaminants.loc[(stream_contaminants['CR'] > 50)]\n",
    "stream_NI=stream_contaminants.loc[(stream_contaminants['NI'] > 20)]\n",
    "stream_ZN=stream_contaminants.loc[(stream_contaminants['ZN'] > 5)]"
   ]
  },
  {
   "cell_type": "code",
   "execution_count": null,
   "metadata": {},
   "outputs": [],
   "source": [
    "'''\n",
    "fig = folium.Figure(width=1200, height=1000)\n",
    "colormap_P = cm.colormap.LinearColormap(colors=[\"lightgray\", \"red\"]).to_step(index=[0,50,13000])\n",
    "colormap_AS = cm.colormap.LinearColormap(colors=[\"lightgray\", \"red\"]).to_step(index=[0,10,46])\n",
    "colormap_CD = cm.colormap.LinearColormap(colors=[\"lightgray\", \"red\"]).to_step(index=[0,5,6])\n",
    "colormap_PB = cm.colormap.LinearColormap(colors=[\"lightgray\", \"red\"]).to_step(index=[0,10,45])\n",
    "colormap_CU= cm.colormap.LinearColormap(colors=[\"lightgray\", \"red\"]).to_step(index=[0,2,188])\n",
    "colormap_CR = cm.colormap.LinearColormap(colors=[\"lightgray\", \"red\"]).to_step(index=[0,50,55])\n",
    "colormap_NI = cm.colormap.LinearColormap(colors=[\"lightgray\", \"red\"]).to_step(index=[0,20,69])\n",
    "colormap_ZN = cm.colormap.LinearColormap(colors=[\"lightgray\", \"red\"]).to_step(index=[0,5,364])\n",
    "\n",
    "m=stream_contaminants.explore(column=\"P\", cmap = colormap_P, show=False, legend=False, name=\"Potassium\", marker_kwds={\"radius\": 3})\n",
    "stream_contaminants.explore(m=m, column=\"AS_\", cmap = colormap_AS,show=False, legend=False, name=\"Arsenic\", marker_kwds={\"radius\": 3})\n",
    "stream_contaminants.explore(m=m, column=\"CD\", cmap = colormap_CD, show=False, legend=False, name=\"Cadmium\",  marker_kwds={\"radius\": 3})\n",
    "stream_contaminants.explore(m=m, column=\"PB\", cmap = colormap_PB, show=False, legend=False, name=\"Lead\", marker_kwds={\"radius\": 3})\n",
    "stream_contaminants.explore(m=m, column=\"CU\", cmap = colormap_CU, show=False, legend=False, name=\"Copper\", marker_kwds={\"radius\": 3})\n",
    "stream_contaminants.explore(m=m, column=\"CR\", cmap = colormap_CR,show=False, legend=False, name=\"Chromium\",  marker_kwds={\"radius\": 3})\n",
    "stream_contaminants.explore(m=m, column=\"NI\", cmap = colormap_NI, show=False, legend=False, name=\"Nickel\", marker_kwds={\"radius\": 3})\n",
    "stream_contaminants.explore(m=m, column=\"ZN\", cmap = colormap_ZN, show=False, legend=False, name=\"Zinc\", marker_kwds={\"radius\": 3})\n",
    "\n",
    "\n",
    "folium.TileLayer('stamenterrain', name=\"Terrain\").add_to(m)\n",
    "folium.TileLayer('cartodbpositron', name=\"Greyscale\").add_to(m)\n",
    "folium.TileLayer('cartodbdark_matter', name=\"Dark\").add_to(m)\n",
    "plugins.Geocoder().add_to(m)\n",
    "folium.LayerControl(collapsed=False).add_to(m)  # use folium to add layer control\n",
    "\n",
    "\n",
    "m.add_to(fig)\n",
    "\n",
    "''';"
   ]
  },
  {
   "cell_type": "code",
   "execution_count": null,
   "metadata": {},
   "outputs": [],
   "source": [
    "def create_nimap():\n",
    "    nimap = folium.Map(\n",
    "        location=[54.637521, -6.485935],\n",
    "        zoom_start=9,\n",
    "    )\n",
    "    return nimap"
   ]
  },
  {
   "cell_type": "code",
   "execution_count": null,
   "metadata": {},
   "outputs": [],
   "source": [
    "m = create_nimap()\n",
    "fig = folium.Figure(width=1200, height=1000)\n",
    "\n",
    "group_1 = folium.FeatureGroup(\"Phosphorous\", show=False).add_to(m)\n",
    "for loc in zip(stream_P[\"lat\"],stream_P[\"lng\"]):\n",
    "      folium.CircleMarker(location=loc,\n",
    "                          radius= 3,\n",
    "                          fill=True,\n",
    "                          color=\"rebeccapurple\",\n",
    "                          fill_opacity=1\n",
    "                          ).add_to(group_1)\n",
    "\n",
    "\n",
    "group_2 = folium.FeatureGroup(\"Arsenic\", show = False).add_to(m)\n",
    "for loc in zip(stream_AS[\"lat\"],stream_AS[\"lng\"]):\n",
    "      folium.CircleMarker(location=loc,\n",
    "                          radius= 3,\n",
    "                          fill=True,\n",
    "                          color=\"blue\",\n",
    "                          fill_opacity=1\n",
    "                          ).add_to(group_2)\n",
    "\n",
    "group_3 = folium.FeatureGroup(\"Cadmium\", show=False).add_to(m)\n",
    "for loc in zip(stream_CD[\"lat\"],stream_CD[\"lng\"]):\n",
    "      folium.CircleMarker(location=loc,\n",
    "                          radius= 3,\n",
    "                          fill=True,\n",
    "                          color=\"green\",\n",
    "                          fill_opacity=1\n",
    "                          ).add_to(group_3)\n",
    "\n",
    "group_4 = folium.FeatureGroup(\"Lead\", show=False).add_to(m)\n",
    "for loc in zip(stream_PB[\"lat\"],stream_PB[\"lng\"]):\n",
    "      folium.CircleMarker(location=loc,\n",
    "                          radius= 5,\n",
    "                          fill=True,\n",
    "                          color=\"red\",\n",
    "                          fill_opacity=1\n",
    "                          ).add_to(group_4)\n",
    "\n",
    "group_5 = folium.FeatureGroup(\"Copper\", show=False).add_to(m)\n",
    "for loc in zip(stream_CU[\"lat\"],stream_CU[\"lng\"]):\n",
    "      folium.CircleMarker(location=loc,\n",
    "                          radius= 3,\n",
    "                          fill=True,\n",
    "                          color=\"gray\",\n",
    "                          fill_opacity=1\n",
    "                          ).add_to(group_5)\n",
    "\n",
    "group_6 = folium.FeatureGroup(\"Chromium\",show=False).add_to(m)\n",
    "for loc in zip(stream_CR[\"lat\"],stream_CR[\"lng\"]):\n",
    "      folium.CircleMarker(location=loc,\n",
    "                          radius= 3,\n",
    "                          fill=True,\n",
    "                          color=\"magenta\",\n",
    "                          fill_opacity=1\n",
    "                          ).add_to(group_6)\n",
    "\n",
    "group_7 = folium.FeatureGroup(\"Nickel\", show=False).add_to(m)\n",
    "for loc in zip(stream_NI[\"lat\"],stream_NI[\"lng\"]):\n",
    "      folium.CircleMarker(location=loc,\n",
    "                          radius= 5,\n",
    "                          fill=True,\n",
    "                          color=\"limegreen\",\n",
    "                          fill_opacity=1\n",
    "                          ).add_to(group_7)\n",
    "\n",
    "group_8 = folium.FeatureGroup(\"Zinc\", show=False).add_to(m)\n",
    "for loc in zip(stream_ZN[\"lat\"],stream_ZN[\"lng\"]):\n",
    "      folium.CircleMarker(location=loc,\n",
    "                          radius= 3,\n",
    "                          fill=True,\n",
    "                          color=\"orange\",\n",
    "                          fill_opacity=1\n",
    "                          ).add_to(group_8)\n",
    "\n",
    "folium.TileLayer('stamenterrain', name=\"Terrain\").add_to(m)\n",
    "folium.TileLayer('cartodbpositron', name=\"Greyscale\").add_to(m)\n",
    "folium.TileLayer('cartodbdark_matter', name=\"Dark\").add_to(m)\n",
    "plugins.Geocoder().add_to(m)\n",
    "folium.LayerControl(collapsed = False).add_to(m)\n",
    "\n",
    "\n",
    "#map_title = 'Corpus Christi'\n",
    "#title_html = '''\n",
    "#             <h3 align=\"center\" style=\"font-size:16px\"><b>{}</b></h3>\n",
    "#             '''.format(map_title)   \n",
    "#\n",
    "#m.get_root().html.add_child(folium.Element(title_html))\n",
    "\n",
    "m.add_to(fig)"
   ]
  }
 ],
 "metadata": {
  "kernelspec": {
   "display_name": "comp-project-2023-8jFVahqd",
   "language": "python",
   "name": "python3"
  },
  "language_info": {
   "codemirror_mode": {
    "name": "ipython",
    "version": 3
   },
   "file_extension": ".py",
   "mimetype": "text/x-python",
   "name": "python",
   "nbconvert_exporter": "python",
   "pygments_lexer": "ipython3",
   "version": "3.10.12"
  },
  "orig_nbformat": 4
 },
 "nbformat": 4,
 "nbformat_minor": 2
}
