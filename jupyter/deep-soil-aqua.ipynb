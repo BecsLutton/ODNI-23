{
 "cells": [
  {
   "cell_type": "code",
   "execution_count": null,
   "id": "45bbaca4",
   "metadata": {},
   "outputs": [],
   "source": [
    "import geopandas as gpd\n",
    "import pandas as pd\n",
    "from pyproj import Proj, CRS, Transformer\n",
    "from shapely.geometry import Point\n",
    "import matplotlib.pyplot as plt\n",
    "import folium\n",
    "from folium import plugins\n",
    "import branca\n",
    "import seaborn as sns\n",
    "plt.rcParams['figure.figsize'] = [8,8]\n",
    "\n"
   ]
  },
  {
   "cell_type": "code",
   "execution_count": null,
   "id": "da8fb311-eec5-4b3b-9d3a-8457fd647eac",
   "metadata": {},
   "outputs": [],
   "source": [
    "gb_ne = CRS('epsg:29901')\n",
    "ll = CRS('epsg:4326')\n",
    "tr = Transformer.from_crs(gb_ne, ll)"
   ]
  },
  {
   "cell_type": "code",
   "execution_count": null,
   "id": "6a20f36a",
   "metadata": {},
   "outputs": [],
   "source": [
    "df = pd.read_csv(\"/home/rebecca/Documents/soil/csv/regionalsoilssaquaregiahdl.csv\")\n",
    "gdf = gpd.GeoDataFrame(df)\n",
    "gdf"
   ]
  },
  {
   "cell_type": "code",
   "execution_count": null,
   "id": "4fbf68b5",
   "metadata": {},
   "outputs": [],
   "source": [
    "def map_row(row):\n",
    "  latlng = tr.transform(row[\"Easting\"], row[\"Northing\"])\n",
    "  return Point(latlng[1], latlng[0])\n",
    "\n",
    "#def lat_lng(data):\n",
    "#  lat,lng = tr.transform(data[\"Easting\"], data[\"Northing\"])\n",
    "#  return (lat, lng)"
   ]
  },
  {
   "cell_type": "code",
   "execution_count": null,
   "id": "564b0aa6-0bc0-4544-b641-366d77b8b8b4",
   "metadata": {},
   "outputs": [],
   "source": [
    "geometry = pd.DataFrame(gdf.apply(map_row, axis=1), columns = [\"geometry\"])\n",
    "\n",
    "#latlng = pd.DataFrame(lat_lng(gdf), index = [\"lat\", \"lng\"]).T"
   ]
  },
  {
   "cell_type": "code",
   "execution_count": null,
   "id": "30dd0488-daf8-428e-a850-866882ce6fc2",
   "metadata": {},
   "outputs": [],
   "source": [
    "#aquaRD = pd.concat([gdf, latlng, geometry], axis=1)\n",
    "aquaRD = pd.concat([gdf, geometry], axis=1)\n",
    "aquaRD.set_geometry(\"geometry\", inplace=True)\n",
    "aquaRD.head()"
   ]
  },
  {
   "cell_type": "code",
   "execution_count": null,
   "id": "41b1dad8-5f28-4444-91f3-0e10d7fac627",
   "metadata": {
    "scrolled": true
   },
   "outputs": [],
   "source": [
    "#aquaRD_df = aquaRD[[\"Sample\",\"P\",\"Se\",\"Cu\",\"Mo\",\"Mn\",\"Ca\",\"K\",\"Zn\",\"Mg\",\"Pb\",\"Cd\",\"As\",\"lat\",\"lng\",\"geometry\"]]\n",
    "aquaRD_df = aquaRD[[\"Sample_Number\",\"P\",\"Se\",\"Cu\",\"Mo\",\"Mn\",\"Ca\",\"K\",\"Zn\",\"Mg\", \"Na\",\"Pb\",\"Cd\",\"As\", \"Ni\",\"Cr\", \"Hg\",\"geometry\"]]\n",
    "#aquaRD_df"
   ]
  },
  {
   "cell_type": "code",
   "execution_count": null,
   "id": "3798c42e-8124-4fd9-8cd6-cf886484d6c7",
   "metadata": {},
   "outputs": [],
   "source": [
    "xrf = pd.read_csv(\"/home/rebecca/Documents/soil/csv/regionalsoilsaxrf.csv\")\n",
    "xrf_df= pd.DataFrame(xrf[[\"Sample\",\"pH\", \"LOI\"]])"
   ]
  },
  {
   "cell_type": "code",
   "execution_count": null,
   "id": "d8d602e3-c1d0-41f8-b801-731169411251",
   "metadata": {
    "scrolled": true
   },
   "outputs": [],
   "source": [
    "aquaRD_df=aquaRD_df.rename(columns={'Sample_Number':'Sample'})\n",
    "ard_a = pd.merge(aquaRD_df, xrf_df, on='Sample', how='inner')"
   ]
  },
  {
   "cell_type": "code",
   "execution_count": null,
   "id": "94a5a0d0-6340-4bf1-ba16-36746c51283e",
   "metadata": {
    "scrolled": true
   },
   "outputs": [],
   "source": [
    "#def som(row):\n",
    "#    return round(100-row[\"LOI\"],2)\n",
    "\n",
    "#ard_a['%OM'] = ard_a.apply(som,axis=1)\n",
    "#ard_a\n",
    "\n",
    "ard_a = ard_a.rename(columns={'LOI':'%OM'})\n",
    "ard_a"
   ]
  },
  {
   "cell_type": "code",
   "execution_count": null,
   "id": "6e8fa2d4-7af5-4575-b422-c193a875bc84",
   "metadata": {
    "scrolled": true
   },
   "outputs": [],
   "source": [
    "ard_a.apply(lambda s: pd.to_numeric(s, errors='coerce').notnull().all())"
   ]
  },
  {
   "cell_type": "code",
   "execution_count": null,
   "id": "49fff99e-2699-490e-be7b-24364ac8cf36",
   "metadata": {},
   "outputs": [],
   "source": [
    "a = pd.to_numeric(ard_a[\"Mn\"], errors='coerce')\n",
    "idx=a.isna()\n",
    "ard_a[idx]"
   ]
  },
  {
   "cell_type": "code",
   "execution_count": null,
   "id": "99fe6fb2",
   "metadata": {},
   "outputs": [],
   "source": [
    "ard_a[\"Ca\"]=ard_a[\"Ca\"].replace(\">15\", 20)\n",
    "ard_a[\"Mn\"]=ard_a[\"Mn\"].replace(\"--\", 0)\n",
    "ard_a[\"Mn\"]=ard_a[\"Mn\"].replace(\">10000\", 10100)"
   ]
  },
  {
   "cell_type": "code",
   "execution_count": null,
   "id": "aeb28924-6e13-4527-bfc3-244f71ed7743",
   "metadata": {
    "scrolled": true
   },
   "outputs": [],
   "source": [
    "ard_A=ard_a.copy()"
   ]
  },
  {
   "cell_type": "code",
   "execution_count": null,
   "id": "85fe246a-7eaa-4cf5-b396-453ce90e4003",
   "metadata": {},
   "outputs": [],
   "source": [
    "ard_A.apply(lambda s: pd.to_numeric(s, errors='coerce').notnull().all())"
   ]
  },
  {
   "cell_type": "code",
   "execution_count": null,
   "id": "b81d9409",
   "metadata": {},
   "outputs": [],
   "source": [
    "ard_A"
   ]
  },
  {
   "cell_type": "code",
   "execution_count": null,
   "id": "91fb4900",
   "metadata": {},
   "outputs": [],
   "source": [
    "sum(i>3 for i in pd.to_numeric(ard_A[\"Se\"]))"
   ]
  },
  {
   "cell_type": "code",
   "execution_count": null,
   "id": "77cddc30-b5b7-433a-a694-87d8b997c938",
   "metadata": {},
   "outputs": [],
   "source": [
    "ard_A.to_csv(\"deep_soil_aqua.csv\", index=False)"
   ]
  },
  {
   "cell_type": "code",
   "execution_count": null,
   "id": "c38bef58-5765-4933-8cc5-e2a95693ec8f",
   "metadata": {},
   "outputs": [],
   "source": [
    "coordinates = pd.DataFrame()\n",
    "coordinates['lat']=ard_A.geometry.y\n",
    "coordinates['lng']=ard_A.geometry.x"
   ]
  },
  {
   "cell_type": "code",
   "execution_count": null,
   "id": "245a8f90-44da-4aa4-9981-8d7f8dd2b348",
   "metadata": {},
   "outputs": [],
   "source": [
    "def create_nimap():\n",
    "    nimap = folium.Map(\n",
    "        location=[54.637521, -6.485935],\n",
    "        zoom_start=9\n",
    "    )\n",
    "    return nimap"
   ]
  },
  {
   "cell_type": "code",
   "execution_count": null,
   "id": "2e1a1fbd-6fd2-4490-9489-e7d19d3beb88",
   "metadata": {},
   "outputs": [],
   "source": [
    "ni_map = create_nimap()\n",
    "plugins.MarkerCluster(coordinates[['lat','lng']]).add_to(ni_map)\n",
    "\n",
    "fig = folium.Figure(width=1500, height=1000)\n",
    "ni_map.add_to(fig)"
   ]
  },
  {
   "cell_type": "code",
   "execution_count": null,
   "id": "f389da7e-69a9-40a6-85a6-265cdad45416",
   "metadata": {},
   "outputs": [],
   "source": [
    "import branca \n",
    "ni_map = create_nimap()\n",
    "fig = folium.Figure(width=1300, height=800)\n",
    "colormap = branca.colormap.linear.viridis.to_step(index=range(0,9,1))\n",
    "\n",
    "pH=ard_A.explore(\"pH\", m=ni_map, cmap = colormap, marker_kwds={\"radius\": 3}, name = \"Results\")\n",
    "\n",
    "folium.TileLayer('stamenterrain').add_to(pH)\n",
    "folium.TileLayer('cartodbpositron').add_to(pH)\n",
    "folium.TileLayer('cartodbdark_matter').add_to(pH)\n",
    "folium.LayerControl().add_to(pH)\n",
    "\n",
    "\n",
    "pH.add_to(fig)\n"
   ]
  },
  {
   "cell_type": "code",
   "execution_count": null,
   "id": "883aef95-07cf-43d8-bcf0-88fd331fb89b",
   "metadata": {},
   "outputs": [],
   "source": [
    "ni_map = create_nimap()\n",
    "fig = folium.Figure(width=1300, height=1000)\n",
    "colormap = branca.colormap.linear.viridis.to_step(index=range(0,110,20))\n",
    "colormap.caption=\"%OM\"\n",
    "                                                  \n",
    "OM=ard_A.explore(\"%OM\", cmap=colormap, m=ni_map, marker_kwds={\"radius\": 3}, name=\"Results\")\n",
    "\n",
    "folium.TileLayer('stamenterrain').add_to(OM)\n",
    "folium.TileLayer('cartodbpositron').add_to(OM)\n",
    "folium.TileLayer('cartodbdark_matter').add_to(OM)\n",
    "folium.LayerControl().add_to(OM)\n",
    "OM.add_to(fig)"
   ]
  },
  {
   "cell_type": "code",
   "execution_count": null,
   "id": "502ff893-2e57-4d82-8daa-c22ad558debf",
   "metadata": {},
   "outputs": [],
   "source": [
    "ard_A[\"pH\"].describe().to_frame()"
   ]
  },
  {
   "cell_type": "code",
   "execution_count": null,
   "id": "a1f81bc9-67f7-4fb6-8cd6-cd1808d479a4",
   "metadata": {},
   "outputs": [],
   "source": [
    "print()\n",
    "print(\"Low pH AND low Organic matter\")\n",
    "print()\n",
    "ll=ard_A.loc[(ard_A['pH']<= 3.5) & (ard_a['%OM']<20)]\n",
    "ll"
   ]
  },
  {
   "cell_type": "code",
   "execution_count": null,
   "id": "1e687e76-fe0a-437a-b154-ffb84820bc5e",
   "metadata": {},
   "outputs": [],
   "source": [
    "len(ll)"
   ]
  },
  {
   "cell_type": "code",
   "execution_count": null,
   "id": "a07b15e9-83b9-439c-b2b1-20edb1f4b936",
   "metadata": {},
   "outputs": [],
   "source": [
    "ni_map = create_nimap()\n",
    "fig = folium.Figure(width=1200, height=1000)\n",
    "\n",
    "ll_coord = pd.DataFrame()\n",
    "ll_coord['lat']=ll.geometry.y\n",
    "ll_coord['lng']=ll.geometry.x\n",
    "\n",
    "plugins.MarkerCluster(ll_coord[['lat','lng']]).add_to(ni_map)\n",
    "ni_map.add_to(fig)"
   ]
  },
  {
   "cell_type": "code",
   "execution_count": null,
   "id": "5f3ac013-b267-4aaf-a7b7-afb89cfdf9be",
   "metadata": {},
   "outputs": [],
   "source": [
    "basic_cations=ard_A[[\"Ca\",\"Mg\",\"K\",\"Na\"]].copy().astype(float)\n",
    "\n",
    "def basic_conversion(data):\n",
    "    Ca_=(data[\"Ca\"])/200\n",
    "    Mg_=(data[\"Mg\"])/120\n",
    "    K_=(data[\"K\"])/390\n",
    "    Na_=(data[\"Na\"])/23\n",
    "    return [Ca_, Mg_, K_, Na_]\n",
    "\n",
    "basic_meq = pd.DataFrame(basic_conversion(basic_cations), index = [\"Ca\",\"Mg\",\"K\",\"Na\"]).T\n",
    "#basic_meq"
   ]
  },
  {
   "cell_type": "code",
   "execution_count": null,
   "id": "23a11965-5de0-48a6-8282-91903b40de77",
   "metadata": {},
   "outputs": [],
   "source": [
    "acid_cations=pd.DataFrame(ard_A[\"pH\"])"
   ]
  },
  {
   "cell_type": "code",
   "execution_count": null,
   "id": "6abe20ce-fa08-45fd-a703-d26f7a9a3dff",
   "metadata": {},
   "outputs": [],
   "source": [
    "acid_cations[\"pH_eq\"]=acid_cations[\"pH\"].apply(lambda ph: 12 * (7 - ph) if ph < 7 else 0)\n",
    "#acid_cations"
   ]
  },
  {
   "cell_type": "code",
   "execution_count": null,
   "id": "6fd51fb1-17ee-447b-893f-5c7d5bfe91e7",
   "metadata": {},
   "outputs": [],
   "source": [
    "CEC_df = pd.concat([basic_meq, acid_cations[\"pH_eq\"]], axis=1)\n",
    "CEC_df[\"CEC\"]=round(CEC_df.sum(axis=1),2)\n",
    "\n",
    "#CEC_df"
   ]
  },
  {
   "cell_type": "code",
   "execution_count": null,
   "id": "68976654-a709-4454-9cc4-caf315d0e4e0",
   "metadata": {},
   "outputs": [],
   "source": [
    "CEC_saturation = CEC_df[\"CEC\"].copy().to_frame()\n",
    "\n",
    "CEC_saturation[\"Acid%\"] = round((CEC_df[\"pH_eq\"]/CEC_df[\"CEC\"])*100,2)\n",
    "CEC_saturation[\"Base%\"] = round(((CEC_df[\"Ca\"]+CEC_df[\"Mg\"]+CEC_df[\"K\"]+CEC_df[\"Na\"])/CEC_df[\"CEC\"])*100,2)\n",
    "CEC_saturation[\"Ca%\"] = round((CEC_df[\"Ca\"]/CEC_df[\"CEC\"])*100,2)\n",
    "CEC_saturation[\"Mg%\"] = round((CEC_df[\"Mg\"]/CEC_df[\"CEC\"])*100,2)\n",
    "CEC_saturation[\"K%\"] = round((CEC_df[\"K\"]/CEC_df[\"CEC\"])*100,2)\n",
    "CEC_saturation[\"Na%\"] = round((CEC_df[\"Na\"]/CEC_df[\"CEC\"])*100,2)"
   ]
  },
  {
   "cell_type": "code",
   "execution_count": null,
   "id": "5db89d30-f83f-4fcd-8429-1a595b4a4c93",
   "metadata": {},
   "outputs": [],
   "source": [
    "#CEC_saturation"
   ]
  },
  {
   "cell_type": "code",
   "execution_count": null,
   "id": "07fac20d-c2fc-4b9f-877f-31cdd3ef8cc7",
   "metadata": {},
   "outputs": [],
   "source": [
    "def soil_texture(data):\n",
    "    if data <=9:\n",
    "        return \"Sand\"\n",
    "    elif data >10 and data <=17:\n",
    "        return \"Loam\"\n",
    "    elif data >17 and data <=25:\n",
    "        return \"Silt\"\n",
    "    elif data >25 and data<=50:\n",
    "        return \"Clay\"\n",
    "    else:\n",
    "        return \"Organic Soil\""
   ]
  },
  {
   "cell_type": "code",
   "execution_count": null,
   "id": "ff28fa72-e494-428d-a863-5fa4a7ed221d",
   "metadata": {},
   "outputs": [],
   "source": [
    "CEC_saturation[\"Type\"] = CEC_saturation[\"CEC\"].apply(soil_texture)"
   ]
  },
  {
   "cell_type": "code",
   "execution_count": null,
   "id": "b0978f7a-926e-4fe5-ad16-acfeb14fe8e0",
   "metadata": {},
   "outputs": [],
   "source": [
    "CEC_saturation"
   ]
  },
  {
   "cell_type": "code",
   "execution_count": null,
   "id": "ee69cfda-f89a-4b56-bc27-b6769fb658e3",
   "metadata": {
    "scrolled": true
   },
   "outputs": [],
   "source": [
    "ardA_type = pd.concat([ard_A, CEC_saturation[\"Type\"]], axis=1)\n",
    "ardA_type.to_csv(\"deep_soil_CEC.csv\", index=False)\n",
    "ardA_type.drop([\"Sample\",\"geometry\"], axis=1, inplace=True)\n",
    "ardA_type"
   ]
  },
  {
   "cell_type": "code",
   "execution_count": null,
   "id": "4736aa87-2378-47fa-babb-25ff08dfa0fc",
   "metadata": {},
   "outputs": [],
   "source": [
    "soil_type=CEC_saturation.copy().groupby([\"Type\"])[\"Type\"].count().nlargest().to_frame()\n",
    "soil_type"
   ]
  },
  {
   "cell_type": "code",
   "execution_count": null,
   "id": "3e618daa-c31e-4b28-ac93-d11a6cfafb02",
   "metadata": {},
   "outputs": [],
   "source": [
    "plt.pie(soil_type[\"Type\"], labels=soil_type.index, radius=1.5);"
   ]
  },
  {
   "cell_type": "code",
   "execution_count": null,
   "id": "ed2b9963-d458-4880-80b8-f7163f58a5b6",
   "metadata": {},
   "outputs": [],
   "source": [
    "CEC_loc = gpd.GeoDataFrame(pd.concat([CEC_saturation, ard_A.geometry], axis =1))\n",
    "CEC_loc.head()"
   ]
  },
  {
   "cell_type": "code",
   "execution_count": null,
   "id": "de325278",
   "metadata": {},
   "outputs": [],
   "source": [
    "soil_type = CEC_loc.copy()\n",
    "soil_type['lat']=soil_type.geometry.y\n",
    "soil_type['lng']=soil_type.geometry.x\n",
    "\n",
    "Org_soil = soil_type[(soil_type['Type']==\"Organic Soil\")]\n",
    "Clay_soil = soil_type[(soil_type['Type']==\"Clay\")]\n",
    "Silt_soil = soil_type[(soil_type['Type']==\"Silt\")]\n",
    "Loam_soil = soil_type[(soil_type['Type']==\"Loam\")]\n",
    "Sand_soil = soil_type[(soil_type['Type']==\"Sand\")]\n"
   ]
  },
  {
   "cell_type": "code",
   "execution_count": null,
   "id": "ecc61120-53d1-4cab-80ef-f6d9714a982e",
   "metadata": {},
   "outputs": [],
   "source": [
    "P=gpd.GeoDataFrame(pd.concat([(pd.to_numeric(ard_A[\"P\"], errors='coerce')),ard_A[\"pH\"], ard_A[\"geometry\"]], axis=1))\n",
    "P"
   ]
  },
  {
   "cell_type": "code",
   "execution_count": null,
   "id": "a79c8da7-c115-4be3-b95e-eb53a57c8317",
   "metadata": {
    "scrolled": true
   },
   "outputs": [],
   "source": [
    "ni_map = create_nimap()\n",
    "fig = folium.Figure(width=1200, height=1000)\n",
    "colormap = branca.colormap.linear.Accent_06.to_step(index=[0,1500,9000])\n",
    "\n",
    "P_map=P.explore(\"P\", cmap = colormap, m=ni_map, marker_kwds={\"radius\": 3})\n",
    "P_map.add_to(fig)"
   ]
  }
 ],
 "metadata": {
  "kernelspec": {
   "display_name": "Python 3 (ipykernel)",
   "language": "python",
   "name": "python3"
  },
  "language_info": {
   "codemirror_mode": {
    "name": "ipython",
    "version": 3
   },
   "file_extension": ".py",
   "mimetype": "text/x-python",
   "name": "python",
   "nbconvert_exporter": "python",
   "pygments_lexer": "ipython3",
   "version": "3.10.12"
  }
 },
 "nbformat": 4,
 "nbformat_minor": 5
}
